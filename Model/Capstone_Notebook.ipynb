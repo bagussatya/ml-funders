{
  "nbformat": 4,
  "nbformat_minor": 0,
  "metadata": {
    "colab": {
      "name": "Capstone Notebook.ipynb",
      "provenance": [],
      "collapsed_sections": [],
      "toc_visible": true
    },
    "kernelspec": {
      "name": "python3",
      "display_name": "Python 3"
    },
    "language_info": {
      "name": "python"
    }
  },
  "cells": [
    {
      "cell_type": "markdown",
      "metadata": {
        "id": "UuSZ1HaGMyv0"
      },
      "source": [
        "# Bangkit Capstone Project : Funders"
      ]
    },
    {
      "cell_type": "markdown",
      "metadata": {
        "id": "CeK6DUukTTSp"
      },
      "source": [
        "<table class=\"tfo-notebook-buttons\" align=\"left\">\n",
        "  <td>\n",
        "    <a target=\"_blank\" href=\"https://colab.research.google.com/drive/1gPsSLT7i-QIZse9PRx0O7v13qewcyeSD?usp=sharing\"><img src=\"https://www.tensorflow.org/images/colab_logo_32px.png\" />Run in Google Colab</a>\n",
        "  </td>\n",
        "  <td>\n",
        "    <a target=\"_blank\" href=\"https://github.com/bagussatya/ml-funders/blob/main/Capstone_Notebook.ipynb\"><img src=\"https://www.tensorflow.org/images/GitHub-Mark-32px.png\" />View source on GitHub</a>\n",
        "  </td>\n",
        "</table>"
      ]
    },
    {
      "cell_type": "markdown",
      "metadata": {
        "id": "zfI67V__M3A-"
      },
      "source": [
        "# Dependencies & Libraries"
      ]
    },
    {
      "cell_type": "code",
      "metadata": {
        "id": "VJurSdkGMe09"
      },
      "source": [
        "#Libraries\n",
        "\n",
        "from sklearn.feature_extraction.text import CountVectorizer\n",
        "from sklearn.metrics.pairwise import cosine_similarity\n",
        "\n",
        "#Visualization\n",
        "import pandas as pd"
      ],
      "execution_count": null,
      "outputs": []
    },
    {
      "cell_type": "markdown",
      "metadata": {
        "id": "GJmqePvBm5Fw"
      },
      "source": [
        "## Data Preparation"
      ]
    },
    {
      "cell_type": "code",
      "metadata": {
        "id": "iIAIhTST40ey"
      },
      "source": [
        "def get_data(link):\n",
        "  df = pd.read_json(link)\n",
        "  df = pd.DataFrame(df['data'].values.tolist())\n",
        "  return df"
      ],
      "execution_count": null,
      "outputs": []
    },
    {
      "cell_type": "code",
      "metadata": {
        "colab": {
          "base_uri": "https://localhost:8080/",
          "height": 311
        },
        "id": "3mxVz9f65Uwd",
        "outputId": "adb33f4f-d596-4a44-d445-1ad4f4a7fe7e"
      },
      "source": [
        "#Importing Enterpreneurs data from database\n",
        "pengusaha_df = get_data('http://35.197.140.41/api/auth/get_all_pengusaha')\n",
        "pengusaha_df.head(3)"
      ],
      "execution_count": null,
      "outputs": [
        {
          "output_type": "execute_result",
          "data": {
            "text/html": [
              "<div>\n",
              "<style scoped>\n",
              "    .dataframe tbody tr th:only-of-type {\n",
              "        vertical-align: middle;\n",
              "    }\n",
              "\n",
              "    .dataframe tbody tr th {\n",
              "        vertical-align: top;\n",
              "    }\n",
              "\n",
              "    .dataframe thead th {\n",
              "        text-align: right;\n",
              "    }\n",
              "</style>\n",
              "<table border=\"1\" class=\"dataframe\">\n",
              "  <thead>\n",
              "    <tr style=\"text-align: right;\">\n",
              "      <th></th>\n",
              "      <th>id</th>\n",
              "      <th>name</th>\n",
              "      <th>email</th>\n",
              "      <th>alamat</th>\n",
              "      <th>no_telp</th>\n",
              "      <th>status</th>\n",
              "      <th>provinsi</th>\n",
              "      <th>kabkota</th>\n",
              "      <th>kategori</th>\n",
              "      <th>lokasi</th>\n",
              "      <th>range_fund</th>\n",
              "      <th>range_employee</th>\n",
              "    </tr>\n",
              "  </thead>\n",
              "  <tbody>\n",
              "    <tr>\n",
              "      <th>0</th>\n",
              "      <td>1</td>\n",
              "      <td>Usaha Daur Ulang kertas Semen</td>\n",
              "      <td>110pengusaha@capstone.com</td>\n",
              "      <td></td>\n",
              "      <td>89787890879</td>\n",
              "      <td>Aktif</td>\n",
              "      <td>SUMATERA UTARA</td>\n",
              "      <td>KAB. DELI SERDANG</td>\n",
              "      <td>Industri Pengolahan</td>\n",
              "      <td>SUMATERA UTARA</td>\n",
              "      <td>&gt; 8 Juta</td>\n",
              "      <td>&lt; 10 Orang</td>\n",
              "    </tr>\n",
              "    <tr>\n",
              "      <th>1</th>\n",
              "      <td>2</td>\n",
              "      <td>Usaha Nyiru Dg Kanang</td>\n",
              "      <td>111pengusaha@capstone.com</td>\n",
              "      <td></td>\n",
              "      <td>89787890880</td>\n",
              "      <td>Aktif</td>\n",
              "      <td>SULAWESI SELATAN</td>\n",
              "      <td>KAB. GOWA</td>\n",
              "      <td>Industri Pengolahan</td>\n",
              "      <td>SULAWESI SELATAN</td>\n",
              "      <td>&gt; 8 Juta</td>\n",
              "      <td>&lt; 10 Orang</td>\n",
              "    </tr>\n",
              "    <tr>\n",
              "      <th>2</th>\n",
              "      <td>3</td>\n",
              "      <td>Ira Furniture</td>\n",
              "      <td>112pengusaha@capstone.com</td>\n",
              "      <td></td>\n",
              "      <td>89787890881</td>\n",
              "      <td>Aktif</td>\n",
              "      <td>DKI JAKARTA</td>\n",
              "      <td>KOTA ADM. JAKARTA TIMUR</td>\n",
              "      <td>Industri Pengolahan</td>\n",
              "      <td>DKI JAKARTA</td>\n",
              "      <td>&gt; 8 Juta</td>\n",
              "      <td>&lt; 10 Orang</td>\n",
              "    </tr>\n",
              "  </tbody>\n",
              "</table>\n",
              "</div>"
            ],
            "text/plain": [
              "   id                           name  ... range_fund range_employee\n",
              "0   1  Usaha Daur Ulang kertas Semen  ...   > 8 Juta     < 10 Orang\n",
              "1   2          Usaha Nyiru Dg Kanang  ...   > 8 Juta     < 10 Orang\n",
              "2   3                  Ira Furniture  ...   > 8 Juta     < 10 Orang\n",
              "\n",
              "[3 rows x 12 columns]"
            ]
          },
          "metadata": {
            "tags": []
          },
          "execution_count": 3
        }
      ]
    },
    {
      "cell_type": "code",
      "metadata": {
        "colab": {
          "base_uri": "https://localhost:8080/",
          "height": 128
        },
        "id": "pnQ9iE62umoe",
        "outputId": "25b1ed59-6fdc-4617-c54e-a771607878f9"
      },
      "source": [
        "#Importing the Investor profile data from database\n",
        "investor_df = get_data('http://35.197.140.41/api/auth/get_all_investor')\n",
        "investor_df = investor_df.iloc[-1:]\n",
        "investor_df"
      ],
      "execution_count": 62,
      "outputs": [
        {
          "output_type": "execute_result",
          "data": {
            "text/html": [
              "<div>\n",
              "<style scoped>\n",
              "    .dataframe tbody tr th:only-of-type {\n",
              "        vertical-align: middle;\n",
              "    }\n",
              "\n",
              "    .dataframe tbody tr th {\n",
              "        vertical-align: top;\n",
              "    }\n",
              "\n",
              "    .dataframe thead th {\n",
              "        text-align: right;\n",
              "    }\n",
              "</style>\n",
              "<table border=\"1\" class=\"dataframe\">\n",
              "  <thead>\n",
              "    <tr style=\"text-align: right;\">\n",
              "      <th></th>\n",
              "      <th>id</th>\n",
              "      <th>name</th>\n",
              "      <th>email</th>\n",
              "      <th>alamat</th>\n",
              "      <th>no_telp</th>\n",
              "      <th>status</th>\n",
              "      <th>provinsi</th>\n",
              "      <th>kabkota</th>\n",
              "      <th>kategori</th>\n",
              "      <th>lokasi</th>\n",
              "      <th>range_fund</th>\n",
              "      <th>range_employee</th>\n",
              "    </tr>\n",
              "  </thead>\n",
              "  <tbody>\n",
              "    <tr>\n",
              "      <th>2</th>\n",
              "      <td>557</td>\n",
              "      <td>Yestika Dian Wulandari</td>\n",
              "      <td>wulan@capstone.com</td>\n",
              "      <td></td>\n",
              "      <td>89787891435</td>\n",
              "      <td>Aktif</td>\n",
              "      <td>KALIMANTAN TIMUR</td>\n",
              "      <td>KOTA SAMARINDA</td>\n",
              "      <td>Kesenian, Hiburan Dan Rekreasi</td>\n",
              "      <td>KALIMANTAN TIMUR</td>\n",
              "      <td>&gt; 8 Juta</td>\n",
              "      <td>10 - 30 Orang</td>\n",
              "    </tr>\n",
              "  </tbody>\n",
              "</table>\n",
              "</div>"
            ],
            "text/plain": [
              "    id                    name  ... range_fund range_employee\n",
              "2  557  Yestika Dian Wulandari  ...   > 8 Juta  10 - 30 Orang\n",
              "\n",
              "[1 rows x 12 columns]"
            ]
          },
          "metadata": {
            "tags": []
          },
          "execution_count": 62
        }
      ]
    },
    {
      "cell_type": "code",
      "metadata": {
        "id": "c7LSUVxYm8zV"
      },
      "source": [
        "# Function to clean whitespaces in columns values\n",
        "def clean_data(x):\n",
        "    if isinstance(x, list):\n",
        "        return [str.lower(i.replace(\" \", \"\")) for i in x]\n",
        "    else:\n",
        "        if isinstance(x, str):\n",
        "            return str.lower(x.replace(\" \", \"\"))\n",
        "        else:\n",
        "            return ''"
      ],
      "execution_count": 63,
      "outputs": []
    },
    {
      "cell_type": "code",
      "metadata": {
        "id": "eSPlMzo0nQ_R"
      },
      "source": [
        "# Function to soup all the features\n",
        "def create_soup(x):\n",
        "    return x['kategori'] + ' ' + str(x['range_fund']) + ' ' + str(x['range_employee']) + ' ' + x['lokasi']"
      ],
      "execution_count": 64,
      "outputs": []
    },
    {
      "cell_type": "code",
      "metadata": {
        "id": "vOP2pcennZBd"
      },
      "source": [
        "# Set the features\n",
        "features = ['kategori', 'range_fund', 'range_employee', 'lokasi']"
      ],
      "execution_count": 65,
      "outputs": []
    },
    {
      "cell_type": "code",
      "metadata": {
        "colab": {
          "base_uri": "https://localhost:8080/",
          "height": 784
        },
        "id": "WbA42RLSyh48",
        "outputId": "c1b74157-f42d-4820-997c-2b2f4ee598a4"
      },
      "source": [
        "# Combining the enterpreneurs and choosen investor data to count similarity\n",
        "df_train = pengusaha_df.append(investor_df,ignore_index=True)\n",
        "df_train"
      ],
      "execution_count": 66,
      "outputs": [
        {
          "output_type": "execute_result",
          "data": {
            "text/html": [
              "<div>\n",
              "<style scoped>\n",
              "    .dataframe tbody tr th:only-of-type {\n",
              "        vertical-align: middle;\n",
              "    }\n",
              "\n",
              "    .dataframe tbody tr th {\n",
              "        vertical-align: top;\n",
              "    }\n",
              "\n",
              "    .dataframe thead th {\n",
              "        text-align: right;\n",
              "    }\n",
              "</style>\n",
              "<table border=\"1\" class=\"dataframe\">\n",
              "  <thead>\n",
              "    <tr style=\"text-align: right;\">\n",
              "      <th></th>\n",
              "      <th>id</th>\n",
              "      <th>name</th>\n",
              "      <th>email</th>\n",
              "      <th>alamat</th>\n",
              "      <th>no_telp</th>\n",
              "      <th>status</th>\n",
              "      <th>provinsi</th>\n",
              "      <th>kabkota</th>\n",
              "      <th>kategori</th>\n",
              "      <th>lokasi</th>\n",
              "      <th>range_fund</th>\n",
              "      <th>range_employee</th>\n",
              "    </tr>\n",
              "  </thead>\n",
              "  <tbody>\n",
              "    <tr>\n",
              "      <th>0</th>\n",
              "      <td>1</td>\n",
              "      <td>Usaha Daur Ulang kertas Semen</td>\n",
              "      <td>110pengusaha@capstone.com</td>\n",
              "      <td></td>\n",
              "      <td>89787890879</td>\n",
              "      <td>Aktif</td>\n",
              "      <td>SUMATERA UTARA</td>\n",
              "      <td>KAB. DELI SERDANG</td>\n",
              "      <td>Industri Pengolahan</td>\n",
              "      <td>SUMATERA UTARA</td>\n",
              "      <td>&gt; 8 Juta</td>\n",
              "      <td>&lt; 10 Orang</td>\n",
              "    </tr>\n",
              "    <tr>\n",
              "      <th>1</th>\n",
              "      <td>2</td>\n",
              "      <td>Usaha Nyiru Dg Kanang</td>\n",
              "      <td>111pengusaha@capstone.com</td>\n",
              "      <td></td>\n",
              "      <td>89787890880</td>\n",
              "      <td>Aktif</td>\n",
              "      <td>SULAWESI SELATAN</td>\n",
              "      <td>KAB. GOWA</td>\n",
              "      <td>Industri Pengolahan</td>\n",
              "      <td>SULAWESI SELATAN</td>\n",
              "      <td>&gt; 8 Juta</td>\n",
              "      <td>&lt; 10 Orang</td>\n",
              "    </tr>\n",
              "    <tr>\n",
              "      <th>2</th>\n",
              "      <td>3</td>\n",
              "      <td>Ira Furniture</td>\n",
              "      <td>112pengusaha@capstone.com</td>\n",
              "      <td></td>\n",
              "      <td>89787890881</td>\n",
              "      <td>Aktif</td>\n",
              "      <td>DKI JAKARTA</td>\n",
              "      <td>KOTA ADM. JAKARTA TIMUR</td>\n",
              "      <td>Industri Pengolahan</td>\n",
              "      <td>DKI JAKARTA</td>\n",
              "      <td>&gt; 8 Juta</td>\n",
              "      <td>&lt; 10 Orang</td>\n",
              "    </tr>\n",
              "    <tr>\n",
              "      <th>3</th>\n",
              "      <td>4</td>\n",
              "      <td>Usaha Tahu Suparni</td>\n",
              "      <td>113pengusaha@capstone.com</td>\n",
              "      <td></td>\n",
              "      <td>89787890882</td>\n",
              "      <td>Aktif</td>\n",
              "      <td>JAWA TIMUR</td>\n",
              "      <td>KAB. SIDOARJO</td>\n",
              "      <td>Industri Pengolahan</td>\n",
              "      <td>JAWA TIMUR</td>\n",
              "      <td>&gt; 8 Juta</td>\n",
              "      <td>&lt; 10 Orang</td>\n",
              "    </tr>\n",
              "    <tr>\n",
              "      <th>4</th>\n",
              "      <td>5</td>\n",
              "      <td>MARJAN BUEN</td>\n",
              "      <td>114pengusaha@capstone.com</td>\n",
              "      <td></td>\n",
              "      <td>89787890883</td>\n",
              "      <td>Aktif</td>\n",
              "      <td>NUSA TENGGARA BARAT</td>\n",
              "      <td>KAB. SUMBAWA</td>\n",
              "      <td>Kegiatan Jasa Lainnya</td>\n",
              "      <td>NUSA TENGGARA BARAT</td>\n",
              "      <td>&gt; 8 Juta</td>\n",
              "      <td>&lt; 10 Orang</td>\n",
              "    </tr>\n",
              "    <tr>\n",
              "      <th>...</th>\n",
              "      <td>...</td>\n",
              "      <td>...</td>\n",
              "      <td>...</td>\n",
              "      <td>...</td>\n",
              "      <td>...</td>\n",
              "      <td>...</td>\n",
              "      <td>...</td>\n",
              "      <td>...</td>\n",
              "      <td>...</td>\n",
              "      <td>...</td>\n",
              "      <td>...</td>\n",
              "      <td>...</td>\n",
              "    </tr>\n",
              "    <tr>\n",
              "      <th>550</th>\n",
              "      <td>551</td>\n",
              "      <td>MEUBEL GARUDA</td>\n",
              "      <td>660pengusaha@capstone.com</td>\n",
              "      <td></td>\n",
              "      <td>89787891429</td>\n",
              "      <td>Aktif</td>\n",
              "      <td>KALIMANTAN TENGAH</td>\n",
              "      <td>KAB. KOTAWARINGIN BARAT</td>\n",
              "      <td>Industri Pengolahan</td>\n",
              "      <td>KALIMANTAN TENGAH</td>\n",
              "      <td>&gt; 8 Juta</td>\n",
              "      <td>&lt; 10 Orang</td>\n",
              "    </tr>\n",
              "    <tr>\n",
              "      <th>551</th>\n",
              "      <td>552</td>\n",
              "      <td>Usaha Kue Frederika</td>\n",
              "      <td>661pengusaha@capstone.com</td>\n",
              "      <td></td>\n",
              "      <td>89787891430</td>\n",
              "      <td>Aktif</td>\n",
              "      <td>MALUKU</td>\n",
              "      <td>KOTA AMBON</td>\n",
              "      <td>Industri Pengolahan</td>\n",
              "      <td>MALUKU</td>\n",
              "      <td>&gt; 8 Juta</td>\n",
              "      <td>&lt; 10 Orang</td>\n",
              "    </tr>\n",
              "    <tr>\n",
              "      <th>552</th>\n",
              "      <td>553</td>\n",
              "      <td>Dandang Royana</td>\n",
              "      <td>662pengusaha@capstone.com</td>\n",
              "      <td></td>\n",
              "      <td>89787891431</td>\n",
              "      <td>Aktif</td>\n",
              "      <td>SUMATERA SELATAN</td>\n",
              "      <td>KOTA PRABUMULIH</td>\n",
              "      <td>Industri Pengolahan</td>\n",
              "      <td>SUMATERA SELATAN</td>\n",
              "      <td>4 - 8 Juta</td>\n",
              "      <td>&lt; 10 Orang</td>\n",
              "    </tr>\n",
              "    <tr>\n",
              "      <th>553</th>\n",
              "      <td>554</td>\n",
              "      <td>Isnaniah</td>\n",
              "      <td>663pengusaha@capstone.com</td>\n",
              "      <td></td>\n",
              "      <td>89787891432</td>\n",
              "      <td>Aktif</td>\n",
              "      <td>KALIMANTAN SELATAN</td>\n",
              "      <td>KAB. BANJAR</td>\n",
              "      <td>Industri Pengolahan</td>\n",
              "      <td>KALIMANTAN SELATAN</td>\n",
              "      <td>&lt; 4 Juta</td>\n",
              "      <td>&lt; 10 Orang</td>\n",
              "    </tr>\n",
              "    <tr>\n",
              "      <th>554</th>\n",
              "      <td>557</td>\n",
              "      <td>Yestika Dian Wulandari</td>\n",
              "      <td>wulan@capstone.com</td>\n",
              "      <td></td>\n",
              "      <td>89787891435</td>\n",
              "      <td>Aktif</td>\n",
              "      <td>KALIMANTAN TIMUR</td>\n",
              "      <td>KOTA SAMARINDA</td>\n",
              "      <td>Kesenian, Hiburan Dan Rekreasi</td>\n",
              "      <td>KALIMANTAN TIMUR</td>\n",
              "      <td>&gt; 8 Juta</td>\n",
              "      <td>10 - 30 Orang</td>\n",
              "    </tr>\n",
              "  </tbody>\n",
              "</table>\n",
              "<p>555 rows × 12 columns</p>\n",
              "</div>"
            ],
            "text/plain": [
              "      id                           name  ...  range_fund range_employee\n",
              "0      1  Usaha Daur Ulang kertas Semen  ...    > 8 Juta     < 10 Orang\n",
              "1      2          Usaha Nyiru Dg Kanang  ...    > 8 Juta     < 10 Orang\n",
              "2      3                  Ira Furniture  ...    > 8 Juta     < 10 Orang\n",
              "3      4             Usaha Tahu Suparni  ...    > 8 Juta     < 10 Orang\n",
              "4      5                    MARJAN BUEN  ...    > 8 Juta     < 10 Orang\n",
              "..   ...                            ...  ...         ...            ...\n",
              "550  551                  MEUBEL GARUDA  ...    > 8 Juta     < 10 Orang\n",
              "551  552            Usaha Kue Frederika  ...    > 8 Juta     < 10 Orang\n",
              "552  553                 Dandang Royana  ...  4 - 8 Juta     < 10 Orang\n",
              "553  554                       Isnaniah  ...    < 4 Juta     < 10 Orang\n",
              "554  557         Yestika Dian Wulandari  ...    > 8 Juta  10 - 30 Orang\n",
              "\n",
              "[555 rows x 12 columns]"
            ]
          },
          "metadata": {
            "tags": []
          },
          "execution_count": 66
        }
      ]
    },
    {
      "cell_type": "code",
      "metadata": {
        "id": "wsjAE1GfnfZZ"
      },
      "source": [
        "# Applying the clean_data function to features\n",
        "for feature in features:\n",
        "    df_train[feature] = df_train[feature].apply(clean_data)"
      ],
      "execution_count": 67,
      "outputs": []
    },
    {
      "cell_type": "code",
      "metadata": {
        "colab": {
          "base_uri": "https://localhost:8080/",
          "height": 438
        },
        "id": "zHryY2iSo8vR",
        "outputId": "13e7bb16-bbd6-4597-a935-05cef1784654"
      },
      "source": [
        "df_train.head(5)"
      ],
      "execution_count": 68,
      "outputs": [
        {
          "output_type": "execute_result",
          "data": {
            "text/html": [
              "<div>\n",
              "<style scoped>\n",
              "    .dataframe tbody tr th:only-of-type {\n",
              "        vertical-align: middle;\n",
              "    }\n",
              "\n",
              "    .dataframe tbody tr th {\n",
              "        vertical-align: top;\n",
              "    }\n",
              "\n",
              "    .dataframe thead th {\n",
              "        text-align: right;\n",
              "    }\n",
              "</style>\n",
              "<table border=\"1\" class=\"dataframe\">\n",
              "  <thead>\n",
              "    <tr style=\"text-align: right;\">\n",
              "      <th></th>\n",
              "      <th>id</th>\n",
              "      <th>name</th>\n",
              "      <th>email</th>\n",
              "      <th>alamat</th>\n",
              "      <th>no_telp</th>\n",
              "      <th>status</th>\n",
              "      <th>provinsi</th>\n",
              "      <th>kabkota</th>\n",
              "      <th>kategori</th>\n",
              "      <th>lokasi</th>\n",
              "      <th>range_fund</th>\n",
              "      <th>range_employee</th>\n",
              "    </tr>\n",
              "  </thead>\n",
              "  <tbody>\n",
              "    <tr>\n",
              "      <th>0</th>\n",
              "      <td>1</td>\n",
              "      <td>Usaha Daur Ulang kertas Semen</td>\n",
              "      <td>110pengusaha@capstone.com</td>\n",
              "      <td></td>\n",
              "      <td>89787890879</td>\n",
              "      <td>Aktif</td>\n",
              "      <td>SUMATERA UTARA</td>\n",
              "      <td>KAB. DELI SERDANG</td>\n",
              "      <td>industripengolahan</td>\n",
              "      <td>sumaterautara</td>\n",
              "      <td>&gt;8juta</td>\n",
              "      <td>&lt;10orang</td>\n",
              "    </tr>\n",
              "    <tr>\n",
              "      <th>1</th>\n",
              "      <td>2</td>\n",
              "      <td>Usaha Nyiru Dg Kanang</td>\n",
              "      <td>111pengusaha@capstone.com</td>\n",
              "      <td></td>\n",
              "      <td>89787890880</td>\n",
              "      <td>Aktif</td>\n",
              "      <td>SULAWESI SELATAN</td>\n",
              "      <td>KAB. GOWA</td>\n",
              "      <td>industripengolahan</td>\n",
              "      <td>sulawesiselatan</td>\n",
              "      <td>&gt;8juta</td>\n",
              "      <td>&lt;10orang</td>\n",
              "    </tr>\n",
              "    <tr>\n",
              "      <th>2</th>\n",
              "      <td>3</td>\n",
              "      <td>Ira Furniture</td>\n",
              "      <td>112pengusaha@capstone.com</td>\n",
              "      <td></td>\n",
              "      <td>89787890881</td>\n",
              "      <td>Aktif</td>\n",
              "      <td>DKI JAKARTA</td>\n",
              "      <td>KOTA ADM. JAKARTA TIMUR</td>\n",
              "      <td>industripengolahan</td>\n",
              "      <td>dkijakarta</td>\n",
              "      <td>&gt;8juta</td>\n",
              "      <td>&lt;10orang</td>\n",
              "    </tr>\n",
              "    <tr>\n",
              "      <th>3</th>\n",
              "      <td>4</td>\n",
              "      <td>Usaha Tahu Suparni</td>\n",
              "      <td>113pengusaha@capstone.com</td>\n",
              "      <td></td>\n",
              "      <td>89787890882</td>\n",
              "      <td>Aktif</td>\n",
              "      <td>JAWA TIMUR</td>\n",
              "      <td>KAB. SIDOARJO</td>\n",
              "      <td>industripengolahan</td>\n",
              "      <td>jawatimur</td>\n",
              "      <td>&gt;8juta</td>\n",
              "      <td>&lt;10orang</td>\n",
              "    </tr>\n",
              "    <tr>\n",
              "      <th>4</th>\n",
              "      <td>5</td>\n",
              "      <td>MARJAN BUEN</td>\n",
              "      <td>114pengusaha@capstone.com</td>\n",
              "      <td></td>\n",
              "      <td>89787890883</td>\n",
              "      <td>Aktif</td>\n",
              "      <td>NUSA TENGGARA BARAT</td>\n",
              "      <td>KAB. SUMBAWA</td>\n",
              "      <td>kegiatanjasalainnya</td>\n",
              "      <td>nusatenggarabarat</td>\n",
              "      <td>&gt;8juta</td>\n",
              "      <td>&lt;10orang</td>\n",
              "    </tr>\n",
              "  </tbody>\n",
              "</table>\n",
              "</div>"
            ],
            "text/plain": [
              "   id                           name  ... range_fund range_employee\n",
              "0   1  Usaha Daur Ulang kertas Semen  ...     >8juta       <10orang\n",
              "1   2          Usaha Nyiru Dg Kanang  ...     >8juta       <10orang\n",
              "2   3                  Ira Furniture  ...     >8juta       <10orang\n",
              "3   4             Usaha Tahu Suparni  ...     >8juta       <10orang\n",
              "4   5                    MARJAN BUEN  ...     >8juta       <10orang\n",
              "\n",
              "[5 rows x 12 columns]"
            ]
          },
          "metadata": {
            "tags": []
          },
          "execution_count": 68
        }
      ]
    },
    {
      "cell_type": "code",
      "metadata": {
        "id": "2ID7KKvsztYn"
      },
      "source": [
        "df_train['soup'] = df_train.apply(create_soup, axis=1)\n",
        "df_train['soup']=df_train['soup'].apply(str)"
      ],
      "execution_count": 69,
      "outputs": []
    },
    {
      "cell_type": "code",
      "metadata": {
        "colab": {
          "base_uri": "https://localhost:8080/",
          "height": 227
        },
        "id": "ZONAn5oqz4y5",
        "outputId": "b45534f9-a47e-4f77-c47a-5e160dfb8112"
      },
      "source": [
        "df_train.tail(3)"
      ],
      "execution_count": 70,
      "outputs": [
        {
          "output_type": "execute_result",
          "data": {
            "text/html": [
              "<div>\n",
              "<style scoped>\n",
              "    .dataframe tbody tr th:only-of-type {\n",
              "        vertical-align: middle;\n",
              "    }\n",
              "\n",
              "    .dataframe tbody tr th {\n",
              "        vertical-align: top;\n",
              "    }\n",
              "\n",
              "    .dataframe thead th {\n",
              "        text-align: right;\n",
              "    }\n",
              "</style>\n",
              "<table border=\"1\" class=\"dataframe\">\n",
              "  <thead>\n",
              "    <tr style=\"text-align: right;\">\n",
              "      <th></th>\n",
              "      <th>id</th>\n",
              "      <th>name</th>\n",
              "      <th>email</th>\n",
              "      <th>alamat</th>\n",
              "      <th>no_telp</th>\n",
              "      <th>status</th>\n",
              "      <th>provinsi</th>\n",
              "      <th>kabkota</th>\n",
              "      <th>kategori</th>\n",
              "      <th>lokasi</th>\n",
              "      <th>range_fund</th>\n",
              "      <th>range_employee</th>\n",
              "      <th>soup</th>\n",
              "    </tr>\n",
              "  </thead>\n",
              "  <tbody>\n",
              "    <tr>\n",
              "      <th>552</th>\n",
              "      <td>553</td>\n",
              "      <td>Dandang Royana</td>\n",
              "      <td>662pengusaha@capstone.com</td>\n",
              "      <td></td>\n",
              "      <td>89787891431</td>\n",
              "      <td>Aktif</td>\n",
              "      <td>SUMATERA SELATAN</td>\n",
              "      <td>KOTA PRABUMULIH</td>\n",
              "      <td>industripengolahan</td>\n",
              "      <td>sumateraselatan</td>\n",
              "      <td>4-8juta</td>\n",
              "      <td>&lt;10orang</td>\n",
              "      <td>industripengolahan 4-8juta &lt;10orang sumaterase...</td>\n",
              "    </tr>\n",
              "    <tr>\n",
              "      <th>553</th>\n",
              "      <td>554</td>\n",
              "      <td>Isnaniah</td>\n",
              "      <td>663pengusaha@capstone.com</td>\n",
              "      <td></td>\n",
              "      <td>89787891432</td>\n",
              "      <td>Aktif</td>\n",
              "      <td>KALIMANTAN SELATAN</td>\n",
              "      <td>KAB. BANJAR</td>\n",
              "      <td>industripengolahan</td>\n",
              "      <td>kalimantanselatan</td>\n",
              "      <td>&lt;4juta</td>\n",
              "      <td>&lt;10orang</td>\n",
              "      <td>industripengolahan &lt;4juta &lt;10orang kalimantans...</td>\n",
              "    </tr>\n",
              "    <tr>\n",
              "      <th>554</th>\n",
              "      <td>557</td>\n",
              "      <td>Yestika Dian Wulandari</td>\n",
              "      <td>wulan@capstone.com</td>\n",
              "      <td></td>\n",
              "      <td>89787891435</td>\n",
              "      <td>Aktif</td>\n",
              "      <td>KALIMANTAN TIMUR</td>\n",
              "      <td>KOTA SAMARINDA</td>\n",
              "      <td>kesenian,hiburandanrekreasi</td>\n",
              "      <td>kalimantantimur</td>\n",
              "      <td>&gt;8juta</td>\n",
              "      <td>10-30orang</td>\n",
              "      <td>kesenian,hiburandanrekreasi &gt;8juta 10-30orang ...</td>\n",
              "    </tr>\n",
              "  </tbody>\n",
              "</table>\n",
              "</div>"
            ],
            "text/plain": [
              "      id  ...                                               soup\n",
              "552  553  ...  industripengolahan 4-8juta <10orang sumaterase...\n",
              "553  554  ...  industripengolahan <4juta <10orang kalimantans...\n",
              "554  557  ...  kesenian,hiburandanrekreasi >8juta 10-30orang ...\n",
              "\n",
              "[3 rows x 13 columns]"
            ]
          },
          "metadata": {
            "tags": []
          },
          "execution_count": 70
        }
      ]
    },
    {
      "cell_type": "markdown",
      "metadata": {
        "id": "qiX05x6ny8BN"
      },
      "source": [
        "# Calculating the similarity"
      ]
    },
    {
      "cell_type": "code",
      "metadata": {
        "id": "CExKKtYTphLN"
      },
      "source": [
        "#calculate the similarity\n",
        "\n",
        "count = CountVectorizer()\n",
        "count_matrix = count.fit_transform(df_train['soup'])\n",
        "cosine_sim2 = cosine_similarity(count_matrix, count_matrix)"
      ],
      "execution_count": 71,
      "outputs": []
    },
    {
      "cell_type": "code",
      "metadata": {
        "id": "BmyCFGAByeG-"
      },
      "source": [
        "#Getting the index\n",
        "indices = pd.Series(df_train.index, index=df_train['id'])"
      ],
      "execution_count": 72,
      "outputs": []
    },
    {
      "cell_type": "markdown",
      "metadata": {
        "id": "FXjat1Dm2u5t"
      },
      "source": [
        "#Getting the 10 most matched with user"
      ]
    },
    {
      "cell_type": "code",
      "metadata": {
        "id": "yBb90EmBytru"
      },
      "source": [
        "def get_recommendations(id, cosine_sim):\n",
        "    # Get the index of the user_name\n",
        "    idx = indices[id]\n",
        "\n",
        "    # Get the pairwsie similarity scores of all enterpreneurs by the investor\n",
        "    sim_scores = list(enumerate(cosine_sim[idx]))\n",
        "\n",
        "    # Sort the enterpreneurs based on the similarity scores\n",
        "    sim_scores = sorted(sim_scores, key=lambda x: x[1], reverse=True)\n",
        "\n",
        "    # Get the scores of the 10 most match items with user\n",
        "    sim_scores = sim_scores[1:11]\n",
        "\n",
        "    # Get the item indices\n",
        "    umkm_id = [i[0] for i in sim_scores]\n",
        "\n",
        "    # Return the top 10 most similar items\n",
        "    result_df = pengusaha_df[['id']].copy()\n",
        "    return result_df.iloc[umkm_id, :]"
      ],
      "execution_count": 73,
      "outputs": []
    },
    {
      "cell_type": "code",
      "metadata": {
        "id": "rPjhWha4zRTv"
      },
      "source": [
        "result = get_recommendations(investor_df['id'].item(), cosine_sim2)\n",
        "result.columns = ['id_recommended']\n",
        "result.insert(0, 'id_user', investor_df['id'].item())"
      ],
      "execution_count": 74,
      "outputs": []
    },
    {
      "cell_type": "code",
      "metadata": {
        "colab": {
          "base_uri": "https://localhost:8080/",
          "height": 355
        },
        "id": "GRlHmRvW38uu",
        "outputId": "f4aefa68-d782-412f-a8e8-dcdcfd59bcad"
      },
      "source": [
        "result"
      ],
      "execution_count": 75,
      "outputs": [
        {
          "output_type": "execute_result",
          "data": {
            "text/html": [
              "<div>\n",
              "<style scoped>\n",
              "    .dataframe tbody tr th:only-of-type {\n",
              "        vertical-align: middle;\n",
              "    }\n",
              "\n",
              "    .dataframe tbody tr th {\n",
              "        vertical-align: top;\n",
              "    }\n",
              "\n",
              "    .dataframe thead th {\n",
              "        text-align: right;\n",
              "    }\n",
              "</style>\n",
              "<table border=\"1\" class=\"dataframe\">\n",
              "  <thead>\n",
              "    <tr style=\"text-align: right;\">\n",
              "      <th></th>\n",
              "      <th>id_user</th>\n",
              "      <th>id_recommended</th>\n",
              "    </tr>\n",
              "  </thead>\n",
              "  <tbody>\n",
              "    <tr>\n",
              "      <th>11</th>\n",
              "      <td>557</td>\n",
              "      <td>12</td>\n",
              "    </tr>\n",
              "    <tr>\n",
              "      <th>41</th>\n",
              "      <td>557</td>\n",
              "      <td>42</td>\n",
              "    </tr>\n",
              "    <tr>\n",
              "      <th>44</th>\n",
              "      <td>557</td>\n",
              "      <td>45</td>\n",
              "    </tr>\n",
              "    <tr>\n",
              "      <th>49</th>\n",
              "      <td>557</td>\n",
              "      <td>50</td>\n",
              "    </tr>\n",
              "    <tr>\n",
              "      <th>155</th>\n",
              "      <td>557</td>\n",
              "      <td>156</td>\n",
              "    </tr>\n",
              "    <tr>\n",
              "      <th>250</th>\n",
              "      <td>557</td>\n",
              "      <td>251</td>\n",
              "    </tr>\n",
              "    <tr>\n",
              "      <th>37</th>\n",
              "      <td>557</td>\n",
              "      <td>38</td>\n",
              "    </tr>\n",
              "    <tr>\n",
              "      <th>60</th>\n",
              "      <td>557</td>\n",
              "      <td>61</td>\n",
              "    </tr>\n",
              "    <tr>\n",
              "      <th>71</th>\n",
              "      <td>557</td>\n",
              "      <td>72</td>\n",
              "    </tr>\n",
              "    <tr>\n",
              "      <th>77</th>\n",
              "      <td>557</td>\n",
              "      <td>78</td>\n",
              "    </tr>\n",
              "  </tbody>\n",
              "</table>\n",
              "</div>"
            ],
            "text/plain": [
              "     id_user  id_recommended\n",
              "11       557              12\n",
              "41       557              42\n",
              "44       557              45\n",
              "49       557              50\n",
              "155      557             156\n",
              "250      557             251\n",
              "37       557              38\n",
              "60       557              61\n",
              "71       557              72\n",
              "77       557              78"
            ]
          },
          "metadata": {
            "tags": []
          },
          "execution_count": 75
        }
      ]
    },
    {
      "cell_type": "markdown",
      "metadata": {
        "id": "373k93hZ20qs"
      },
      "source": [
        "# Export to JSON"
      ]
    },
    {
      "cell_type": "code",
      "metadata": {
        "id": "5Kt-qlsv25FK"
      },
      "source": [
        "json_file = result.to_json('test result.json',orient='records')"
      ],
      "execution_count": 76,
      "outputs": []
    },
    {
      "cell_type": "code",
      "metadata": {
        "id": "rCEH5VKd8Gjw"
      },
      "source": [
        ""
      ],
      "execution_count": 76,
      "outputs": []
    }
  ]
}
